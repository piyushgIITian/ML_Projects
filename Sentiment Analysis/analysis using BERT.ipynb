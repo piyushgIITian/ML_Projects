{
 "cells": [
  {
   "cell_type": "markdown",
   "id": "d1269aba",
   "metadata": {},
   "source": [
    "# 1. Import"
   ]
  },
  {
   "cell_type": "code",
   "execution_count": 2,
   "id": "e6b61a3e",
   "metadata": {},
   "outputs": [
    {
     "name": "stdout",
     "output_type": "stream",
     "text": [
      "Collecting transformers\n",
      "  Downloading transformers-4.20.1-py3-none-any.whl (4.4 MB)\n",
      "     ---------------------------------------- 4.4/4.4 MB 15.8 MB/s eta 0:00:00\n",
      "Requirement already satisfied: requests in c:\\programdata\\anaconda3\\lib\\site-packages (2.26.0)\n",
      "Requirement already satisfied: beautifulsoup4 in c:\\programdata\\anaconda3\\lib\\site-packages (4.10.0)\n",
      "Requirement already satisfied: numpy>=1.17 in c:\\programdata\\anaconda3\\lib\\site-packages (from transformers) (1.20.3)\n",
      "Requirement already satisfied: regex!=2019.12.17 in c:\\programdata\\anaconda3\\lib\\site-packages (from transformers) (2021.8.3)\n",
      "Requirement already satisfied: tqdm>=4.27 in c:\\programdata\\anaconda3\\lib\\site-packages (from transformers) (4.62.3)\n",
      "Requirement already satisfied: packaging>=20.0 in c:\\programdata\\anaconda3\\lib\\site-packages (from transformers) (21.0)\n",
      "Requirement already satisfied: pyyaml>=5.1 in c:\\programdata\\anaconda3\\lib\\site-packages (from transformers) (6.0)\n",
      "Collecting huggingface-hub<1.0,>=0.1.0\n",
      "  Downloading huggingface_hub-0.8.1-py3-none-any.whl (101 kB)\n",
      "     -------------------------------------- 101.5/101.5 kB 5.7 MB/s eta 0:00:00\n",
      "Requirement already satisfied: filelock in c:\\programdata\\anaconda3\\lib\\site-packages (from transformers) (3.3.1)\n",
      "Collecting tokenizers!=0.11.3,<0.13,>=0.11.1\n",
      "  Downloading tokenizers-0.12.1-cp39-cp39-win_amd64.whl (3.3 MB)\n",
      "     ---------------------------------------- 3.3/3.3 MB 42.0 MB/s eta 0:00:00\n",
      "Requirement already satisfied: idna<4,>=2.5 in c:\\programdata\\anaconda3\\lib\\site-packages (from requests) (3.2)\n",
      "Requirement already satisfied: charset-normalizer~=2.0.0 in c:\\programdata\\anaconda3\\lib\\site-packages (from requests) (2.0.4)\n",
      "Requirement already satisfied: certifi>=2017.4.17 in c:\\programdata\\anaconda3\\lib\\site-packages (from requests) (2021.10.8)\n",
      "Requirement already satisfied: urllib3<1.27,>=1.21.1 in c:\\programdata\\anaconda3\\lib\\site-packages (from requests) (1.26.7)\n",
      "Requirement already satisfied: soupsieve>1.2 in c:\\programdata\\anaconda3\\lib\\site-packages (from beautifulsoup4) (2.2.1)\n",
      "Requirement already satisfied: typing-extensions>=3.7.4.3 in c:\\programdata\\anaconda3\\lib\\site-packages (from huggingface-hub<1.0,>=0.1.0->transformers) (3.10.0.2)\n",
      "Requirement already satisfied: pyparsing>=2.0.2 in c:\\programdata\\anaconda3\\lib\\site-packages (from packaging>=20.0->transformers) (3.0.4)\n",
      "Requirement already satisfied: colorama in c:\\programdata\\anaconda3\\lib\\site-packages (from tqdm>=4.27->transformers) (0.4.4)\n",
      "Installing collected packages: tokenizers, huggingface-hub, transformers\n",
      "Successfully installed huggingface-hub-0.8.1 tokenizers-0.12.1 transformers-4.20.1\n"
     ]
    },
    {
     "name": "stderr",
     "output_type": "stream",
     "text": [
      "WARNING: Ignoring invalid distribution -mportlib-metadata (c:\\programdata\\anaconda3\\lib\\site-packages)\n",
      "WARNING: Ignoring invalid distribution -mportlib-metadata (c:\\programdata\\anaconda3\\lib\\site-packages)\n",
      "WARNING: Ignoring invalid distribution -mportlib-metadata (c:\\programdata\\anaconda3\\lib\\site-packages)\n",
      "WARNING: Ignoring invalid distribution -mportlib-metadata (c:\\programdata\\anaconda3\\lib\\site-packages)\n",
      "WARNING: Ignoring invalid distribution -mportlib-metadata (c:\\programdata\\anaconda3\\lib\\site-packages)\n",
      "WARNING: Ignoring invalid distribution -mportlib-metadata (c:\\programdata\\anaconda3\\lib\\site-packages)\n",
      "WARNING: Ignoring invalid distribution -mportlib-metadata (c:\\programdata\\anaconda3\\lib\\site-packages)\n"
     ]
    }
   ],
   "source": [
    "!pip install transformers requests beautifulsoup4"
   ]
  },
  {
   "cell_type": "code",
   "execution_count": 3,
   "id": "ed9d05eb",
   "metadata": {},
   "outputs": [],
   "source": [
    "from transformers import AutoTokenizer, AutoModelForSequenceClassification\n",
    "import torch\n",
    "import requests\n",
    "from bs4 import BeautifulSoup\n",
    "import re"
   ]
  },
  {
   "cell_type": "markdown",
   "id": "7af6edef",
   "metadata": {},
   "source": [
    "# 2. Instantiate Model BERT"
   ]
  },
  {
   "cell_type": "code",
   "execution_count": 4,
   "id": "c7e90319",
   "metadata": {},
   "outputs": [
    {
     "data": {
      "application/vnd.jupyter.widget-view+json": {
       "model_id": "b426f86bfac4400cb6bf65ce4a20aefa",
       "version_major": 2,
       "version_minor": 0
      },
      "text/plain": [
       "Downloading:   0%|          | 0.00/39.0 [00:00<?, ?B/s]"
      ]
     },
     "metadata": {},
     "output_type": "display_data"
    },
    {
     "data": {
      "application/vnd.jupyter.widget-view+json": {
       "model_id": "a4f5dd75a4f746579628584369bbce38",
       "version_major": 2,
       "version_minor": 0
      },
      "text/plain": [
       "Downloading:   0%|          | 0.00/953 [00:00<?, ?B/s]"
      ]
     },
     "metadata": {},
     "output_type": "display_data"
    },
    {
     "data": {
      "application/vnd.jupyter.widget-view+json": {
       "model_id": "19ee1dabc53e4b61ab6a06ae1ee4be3d",
       "version_major": 2,
       "version_minor": 0
      },
      "text/plain": [
       "Downloading:   0%|          | 0.00/851k [00:00<?, ?B/s]"
      ]
     },
     "metadata": {},
     "output_type": "display_data"
    },
    {
     "data": {
      "application/vnd.jupyter.widget-view+json": {
       "model_id": "c5b9de5bacb044468d9fc0751a48d1da",
       "version_major": 2,
       "version_minor": 0
      },
      "text/plain": [
       "Downloading:   0%|          | 0.00/112 [00:00<?, ?B/s]"
      ]
     },
     "metadata": {},
     "output_type": "display_data"
    },
    {
     "data": {
      "application/vnd.jupyter.widget-view+json": {
       "model_id": "080940b4e62e44308cb3aecf01f27e79",
       "version_major": 2,
       "version_minor": 0
      },
      "text/plain": [
       "Downloading:   0%|          | 0.00/638M [00:00<?, ?B/s]"
      ]
     },
     "metadata": {},
     "output_type": "display_data"
    }
   ],
   "source": [
    "tokenizer = AutoTokenizer.from_pretrained('nlptown/bert-base-multilingual-uncased-sentiment')\n",
    "\n",
    "model = AutoModelForSequenceClassification.from_pretrained('nlptown/bert-base-multilingual-uncased-sentiment')"
   ]
  },
  {
   "cell_type": "markdown",
   "id": "5c85d804",
   "metadata": {},
   "source": [
    "# 3. Encode and calculate sentiment"
   ]
  },
  {
   "cell_type": "code",
   "execution_count": 5,
   "id": "968192b4",
   "metadata": {},
   "outputs": [],
   "source": [
    "tokens = tokenizer.encode('It was good but couldve been better. Great', return_tensors='pt')"
   ]
  },
  {
   "cell_type": "code",
   "execution_count": 12,
   "id": "e5366635",
   "metadata": {},
   "outputs": [
    {
     "data": {
      "text/plain": [
       "SequenceClassifierOutput(loss=None, logits=tensor([[-2.7768, -1.2353,  1.4419,  1.9804,  0.4584]],\n",
       "       grad_fn=<AddmmBackward0>), hidden_states=None, attentions=None)"
      ]
     },
     "execution_count": 12,
     "metadata": {},
     "output_type": "execute_result"
    }
   ],
   "source": [
    "result = model(tokens)\n",
    "result"
   ]
  },
  {
   "cell_type": "code",
   "execution_count": 16,
   "id": "9024499e",
   "metadata": {},
   "outputs": [
    {
     "data": {
      "text/plain": [
       "tensor(3)"
      ]
     },
     "execution_count": 16,
     "metadata": {},
     "output_type": "execute_result"
    }
   ],
   "source": [
    "torch.argmax(result.logits)"
   ]
  },
  {
   "cell_type": "code",
   "execution_count": 15,
   "id": "450df6cd",
   "metadata": {},
   "outputs": [
    {
     "name": "stdout",
     "output_type": "stream",
     "text": [
      "the sentiment score of the sentence from (/5) is  4\n"
     ]
    }
   ],
   "source": [
    "score = int(torch.argmax(result.logits)) + 1\n",
    "print(\"the sentiment score of the sentence from (/5) is \", score)"
   ]
  },
  {
   "cell_type": "code",
   "execution_count": 17,
   "id": "c7f5cf94",
   "metadata": {},
   "outputs": [
    {
     "name": "stdout",
     "output_type": "stream",
     "text": [
      "the sentiment score of the sentence from (/5) is  1\n"
     ]
    }
   ],
   "source": [
    "tokens2 = tokenizer.encode('I hate it you are the worst.', return_tensors='pt')\n",
    "result2 = model(tokens2)\n",
    "score2 = int(torch.argmax(result2.logits)) + 1\n",
    "print(\"the sentiment score of the sentence from (/5) is \", score2)"
   ]
  },
  {
   "cell_type": "markdown",
   "id": "4382044d",
   "metadata": {},
   "source": [
    "# 4. Collect Review"
   ]
  },
  {
   "cell_type": "code",
   "execution_count": 18,
   "id": "390406cf",
   "metadata": {},
   "outputs": [],
   "source": [
    "#web scrapping\n",
    "r = requests.get('https://www.yelp.com/biz/pearls-deluxe-burgers-san-francisco-3')\n",
    "soup = BeautifulSoup(r.text, 'html.parser')\n",
    "regex = re.compile('.*comment.*')\n",
    "results = soup.find_all('p', {'class':regex})\n",
    "reviews = [result.text for result in results]"
   ]
  },
  {
   "cell_type": "code",
   "execution_count": 24,
   "id": "690e5e64",
   "metadata": {},
   "outputs": [
    {
     "data": {
      "text/plain": [
       "[\"Help! Me and my wife've been taking burgers from here almost daily and still can't find a stop to it!!! Sooo satisfyingly delicious!!! Juicy meat, fluffy bun with a nice crispy shell, amazing sauces. Cant believe myself walking passing by this place to get an asian groceries next door all the time never realize that there's such an awesome burger place right under my nose!Everything we got from here was so good! Blue cheese, mushroom, avocado, bula burger, pesto, thinking of trying everything ion the menu because I have confidence that they won't disappoint me. Hands down best burger in town.The fries are so fresh and fluffy. Garlic fries will absolutely give you a stinky breath but I just can't stop eating itMilkshake is kinda too sweet for me but it's an acceptable sweetness that I still can enjoy, love the various options for the shake's flavors, sadly they don't serve the seasonal cheesecake milkshake anymore. Also, lovely service is something worth mentioning!\",\n",
       " \"We recently grabbed dinner here, and although it's somewhat of a SF staple, it really fell short for me. I got the prized pearl, which simply had an overwhelming amount of blue cheese. I do really enjoy blue cheese, but towards the middle of the burger, it felt as if I was just eating bites of blue cheese over and over. The onions were in between raw and grilled (still opaque), so were in a weird state where onion could actually detract from a burger. The patty itself was not well seasoned; just tasted like I was biting into unseasoned cooked beef. By the end, all the juices had flowed out of everything, and I was eating basically slop.Personally will not be coming back!\",\n",
       " \"One of the few burger spots in SF! Being a burger lover, I decided to try this place. It's a small burger shop with very few seats. Menu is small and precise. They do have two sizes for their burgers which is a plus. \\xa0The burger itself is okay. The bun fell apart as I was eating the burger, patty lacked some seasoning, and the tomato was watery. And this might not be a big deal to some but I'm not a fan of a raw onion on my burger. Portions were great though!Overall just okay, I'm not sure if I would come back.\",\n",
       " 'Pretty good burger by SF standards! (they are hard to come by). I tried the \"Phat Bob,\" which comes with bacon, onion rings, BBQ sauce, cheese, and mayo. Everything was tasty and well-balanced. My only gripe was that the onion rings seemed a bit MIA. The burger itself was juicy and reasonably portioned for the price. I also tried a side of the fries, which are a traditional east coast diner style. They were hot and crispy, exactly what you want from this type of fry. I also tried their Oreo milkshake, which was a bit of a letdown; it was too watery. I will return if I\\'m in the area looking to get my burger fix!',\n",
       " \"When searching for some burger candidates stumbled upon this gem and so glad we did! I always like trying the chili wherever I can with fond appreciation when done well. This place, y'all, hit home with their burgers, sides (onion rings & garlic fries), AND chili! We got it to-go so waited good 20mins or so before eating and even then, all exceptional. You betcha we'll be back again!\",\n",
       " \"I was visiting SF with a friend and we didn't want to get boring room service. Thankfully this was a few blocks away. We got the pesto grilled chicken sandwich and it was mind blowing. The fries were great too. It's definitely worth it.\",\n",
       " 'Hood little spot got a quick lunch friendly staff small place get packed fast during lunch time',\n",
       " \"This place doesn't look like much from the outside but I decided to give it try considering the raving reviews, and the burgers definitely didn't disappoint.First of all, the burgers are PACKED. They do not skimp on the onions, mushrooms, avocado, etc. I ordered the 1/4 size burger and felt like it was a great size for me, if I had gotten the 1/2 size burger it would have been way too big for me. The prized pearl was delicious. The grilled onions come whole and it definitely delivers. I also added avocado for $2 and they literally put a whole half of the avocado sliced in there. It's definitely messy to eat, but I honestly don't mind. I would have been more disappointed if they skimped. My boyfriend got the mushroom speciality burger with 1/2 pound burger, and it was huge. Significantly bigger than the 1/4 pound. He enjoyed it, but did find it difficult to eat. We also ordered the garlic fries, portions are huge. I thought the fries were good, and reminded me garlic fries they sell at a baseball game.Despite it being a messy meal, the burgers are spot-on and it's definitely worth a stop. They have a great variety of burgers, hot dogs, sandwiches and milkshakes. The inside isn't dirty either, it clean considering the location (lol). I paid about $30 for 2 burgers and 1 order of garlic fries, I thought it was worth my money.\",\n",
       " \"Pearl's Deluxe Burgers is a San Francisco classic. Just like the name, their deluxe burgers offerings are exciting, unique, and so tasty. The quality of the food at Pearl's is what makes this is a must visit place in San Francisco. Located on Post Street, not too far from Union Square, Pearl's is a community location. There really is not one bad thing on the menu. Whether you have a taste for burgers, grilled chicken, fries, or milkshakes, Pearl's has you covered.\",\n",
       " 'First time at Pearl\\'s Deluxe Burgers today and it was an AMAZING EXPERIENCE! So let\\'s get into the nitty gritty. Pearl\\'s is a small establishment with limited seating. It\\'s also a \"cash only\" business but, there is an ATM located conveniently inside next to the register. There are several luxury or deluxe takes on classic American burgers. Also, there are some recommended burgers as well. I had the Spicy Grilled Chicken Sandwich and Sweet Potato Fries. It was GLORIOUS!! The owner was manning the cash register, provided his favorites and brought the food to our table. The inside reminds me of classic Americana - old Pepsi and coke signage and chalk hand written colorful menu. This is a MUST TRY for anyone who likes burgers and fries',\n",
       " \"Good Burger place unfortunately I don't eat meat so I can't say everything others might say but I found it as one of the top ranked burger places in SF. \\xa0So I decided stop by and ordered 7 burgers (1 Veggie one) to bring to my family....Also ordered 2 orders of Fries....I expected business to be booming here but seems like it's slow he did mention the pandemic didn't help them much...similar to many other businesses....Overall the patty was good...my great aunt liked the burger I got her...and BTW their smaller size is basically pretty large!The fries were exceptional!Would I come back yes if I'm nearby.....\"]"
      ]
     },
     "execution_count": 24,
     "metadata": {},
     "output_type": "execute_result"
    }
   ],
   "source": [
    "reviews"
   ]
  },
  {
   "cell_type": "markdown",
   "id": "f3dc3ea4",
   "metadata": {},
   "source": [
    "# 5. Load Reviews into Dataframe and Score"
   ]
  },
  {
   "cell_type": "code",
   "execution_count": 25,
   "id": "838ffe9f",
   "metadata": {},
   "outputs": [],
   "source": [
    "import pandas as pd\n",
    "import numpy as np\n",
    "df = pd.DataFrame(np.array(reviews), columns=['review'])"
   ]
  },
  {
   "cell_type": "code",
   "execution_count": 26,
   "id": "2eb628b7",
   "metadata": {},
   "outputs": [
    {
     "data": {
      "text/html": [
       "<div>\n",
       "<style scoped>\n",
       "    .dataframe tbody tr th:only-of-type {\n",
       "        vertical-align: middle;\n",
       "    }\n",
       "\n",
       "    .dataframe tbody tr th {\n",
       "        vertical-align: top;\n",
       "    }\n",
       "\n",
       "    .dataframe thead th {\n",
       "        text-align: right;\n",
       "    }\n",
       "</style>\n",
       "<table border=\"1\" class=\"dataframe\">\n",
       "  <thead>\n",
       "    <tr style=\"text-align: right;\">\n",
       "      <th></th>\n",
       "      <th>review</th>\n",
       "    </tr>\n",
       "  </thead>\n",
       "  <tbody>\n",
       "    <tr>\n",
       "      <th>0</th>\n",
       "      <td>Help! Me and my wife've been taking burgers fr...</td>\n",
       "    </tr>\n",
       "    <tr>\n",
       "      <th>1</th>\n",
       "      <td>We recently grabbed dinner here, and although ...</td>\n",
       "    </tr>\n",
       "    <tr>\n",
       "      <th>2</th>\n",
       "      <td>One of the few burger spots in SF! Being a bur...</td>\n",
       "    </tr>\n",
       "    <tr>\n",
       "      <th>3</th>\n",
       "      <td>Pretty good burger by SF standards! (they are ...</td>\n",
       "    </tr>\n",
       "    <tr>\n",
       "      <th>4</th>\n",
       "      <td>When searching for some burger candidates stum...</td>\n",
       "    </tr>\n",
       "    <tr>\n",
       "      <th>5</th>\n",
       "      <td>I was visiting SF with a friend and we didn't ...</td>\n",
       "    </tr>\n",
       "    <tr>\n",
       "      <th>6</th>\n",
       "      <td>Hood little spot got a quick lunch friendly st...</td>\n",
       "    </tr>\n",
       "    <tr>\n",
       "      <th>7</th>\n",
       "      <td>This place doesn't look like much from the out...</td>\n",
       "    </tr>\n",
       "    <tr>\n",
       "      <th>8</th>\n",
       "      <td>Pearl's Deluxe Burgers is a San Francisco clas...</td>\n",
       "    </tr>\n",
       "    <tr>\n",
       "      <th>9</th>\n",
       "      <td>First time at Pearl's Deluxe Burgers today and...</td>\n",
       "    </tr>\n",
       "    <tr>\n",
       "      <th>10</th>\n",
       "      <td>Good Burger place unfortunately I don't eat me...</td>\n",
       "    </tr>\n",
       "  </tbody>\n",
       "</table>\n",
       "</div>"
      ],
      "text/plain": [
       "                                               review\n",
       "0   Help! Me and my wife've been taking burgers fr...\n",
       "1   We recently grabbed dinner here, and although ...\n",
       "2   One of the few burger spots in SF! Being a bur...\n",
       "3   Pretty good burger by SF standards! (they are ...\n",
       "4   When searching for some burger candidates stum...\n",
       "5   I was visiting SF with a friend and we didn't ...\n",
       "6   Hood little spot got a quick lunch friendly st...\n",
       "7   This place doesn't look like much from the out...\n",
       "8   Pearl's Deluxe Burgers is a San Francisco clas...\n",
       "9   First time at Pearl's Deluxe Burgers today and...\n",
       "10  Good Burger place unfortunately I don't eat me..."
      ]
     },
     "execution_count": 26,
     "metadata": {},
     "output_type": "execute_result"
    }
   ],
   "source": [
    "df"
   ]
  },
  {
   "cell_type": "code",
   "execution_count": 30,
   "id": "4590d4bb",
   "metadata": {},
   "outputs": [],
   "source": [
    "def sentiment_score(review):\n",
    "    tokens = tokenizer.encode(review, return_tensors='pt')\n",
    "    result = model(tokens)\n",
    "    return int(torch.argmax(result.logits))+1"
   ]
  },
  {
   "cell_type": "code",
   "execution_count": 31,
   "id": "d319adb7",
   "metadata": {},
   "outputs": [
    {
     "data": {
      "text/plain": [
       "\"Help! Me and my wife've been taking burgers from here almost daily and still can't find a stop to it!!! Sooo satisfyingly delicious!!! Juicy meat, fluffy bun with a nice crispy shell, amazing sauces. Cant believe myself walking passing by this place to get an asian groceries next door all the time never realize that there's such an awesome burger place right under my nose!Everything we got from here was so good! Blue cheese, mushroom, avocado, bula burger, pesto, thinking of trying everything ion the menu because I have confidence that they won't disappoint me. Hands down best burger in town.The fries are so fresh and fluffy. Garlic fries will absolutely give you a stinky breath but I just can't stop eating itMilkshake is kinda too sweet for me but it's an acceptable sweetness that I still can enjoy, love the various options for the shake's flavors, sadly they don't serve the seasonal cheesecake milkshake anymore. Also, lovely service is something worth mentioning!\""
      ]
     },
     "execution_count": 31,
     "metadata": {},
     "output_type": "execute_result"
    }
   ],
   "source": [
    "df['review'].iloc[0]"
   ]
  },
  {
   "cell_type": "code",
   "execution_count": 33,
   "id": "904bb755",
   "metadata": {},
   "outputs": [
    {
     "data": {
      "text/plain": [
       "5"
      ]
     },
     "execution_count": 33,
     "metadata": {},
     "output_type": "execute_result"
    }
   ],
   "source": [
    "sentiment_score(df['review'].iloc[0])"
   ]
  },
  {
   "cell_type": "code",
   "execution_count": 34,
   "id": "518974cd",
   "metadata": {},
   "outputs": [],
   "source": [
    "df['sentiment'] = df['review'].apply(lambda x: sentiment_score(x[:512]))"
   ]
  },
  {
   "cell_type": "code",
   "execution_count": 35,
   "id": "3390d759",
   "metadata": {},
   "outputs": [
    {
     "data": {
      "text/html": [
       "<div>\n",
       "<style scoped>\n",
       "    .dataframe tbody tr th:only-of-type {\n",
       "        vertical-align: middle;\n",
       "    }\n",
       "\n",
       "    .dataframe tbody tr th {\n",
       "        vertical-align: top;\n",
       "    }\n",
       "\n",
       "    .dataframe thead th {\n",
       "        text-align: right;\n",
       "    }\n",
       "</style>\n",
       "<table border=\"1\" class=\"dataframe\">\n",
       "  <thead>\n",
       "    <tr style=\"text-align: right;\">\n",
       "      <th></th>\n",
       "      <th>review</th>\n",
       "      <th>sentiment</th>\n",
       "    </tr>\n",
       "  </thead>\n",
       "  <tbody>\n",
       "    <tr>\n",
       "      <th>0</th>\n",
       "      <td>Help! Me and my wife've been taking burgers fr...</td>\n",
       "      <td>5</td>\n",
       "    </tr>\n",
       "    <tr>\n",
       "      <th>1</th>\n",
       "      <td>We recently grabbed dinner here, and although ...</td>\n",
       "      <td>2</td>\n",
       "    </tr>\n",
       "    <tr>\n",
       "      <th>2</th>\n",
       "      <td>One of the few burger spots in SF! Being a bur...</td>\n",
       "      <td>3</td>\n",
       "    </tr>\n",
       "    <tr>\n",
       "      <th>3</th>\n",
       "      <td>Pretty good burger by SF standards! (they are ...</td>\n",
       "      <td>4</td>\n",
       "    </tr>\n",
       "    <tr>\n",
       "      <th>4</th>\n",
       "      <td>When searching for some burger candidates stum...</td>\n",
       "      <td>5</td>\n",
       "    </tr>\n",
       "    <tr>\n",
       "      <th>5</th>\n",
       "      <td>I was visiting SF with a friend and we didn't ...</td>\n",
       "      <td>5</td>\n",
       "    </tr>\n",
       "    <tr>\n",
       "      <th>6</th>\n",
       "      <td>Hood little spot got a quick lunch friendly st...</td>\n",
       "      <td>4</td>\n",
       "    </tr>\n",
       "    <tr>\n",
       "      <th>7</th>\n",
       "      <td>This place doesn't look like much from the out...</td>\n",
       "      <td>4</td>\n",
       "    </tr>\n",
       "    <tr>\n",
       "      <th>8</th>\n",
       "      <td>Pearl's Deluxe Burgers is a San Francisco clas...</td>\n",
       "      <td>5</td>\n",
       "    </tr>\n",
       "    <tr>\n",
       "      <th>9</th>\n",
       "      <td>First time at Pearl's Deluxe Burgers today and...</td>\n",
       "      <td>5</td>\n",
       "    </tr>\n",
       "    <tr>\n",
       "      <th>10</th>\n",
       "      <td>Good Burger place unfortunately I don't eat me...</td>\n",
       "      <td>4</td>\n",
       "    </tr>\n",
       "  </tbody>\n",
       "</table>\n",
       "</div>"
      ],
      "text/plain": [
       "                                               review  sentiment\n",
       "0   Help! Me and my wife've been taking burgers fr...          5\n",
       "1   We recently grabbed dinner here, and although ...          2\n",
       "2   One of the few burger spots in SF! Being a bur...          3\n",
       "3   Pretty good burger by SF standards! (they are ...          4\n",
       "4   When searching for some burger candidates stum...          5\n",
       "5   I was visiting SF with a friend and we didn't ...          5\n",
       "6   Hood little spot got a quick lunch friendly st...          4\n",
       "7   This place doesn't look like much from the out...          4\n",
       "8   Pearl's Deluxe Burgers is a San Francisco clas...          5\n",
       "9   First time at Pearl's Deluxe Burgers today and...          5\n",
       "10  Good Burger place unfortunately I don't eat me...          4"
      ]
     },
     "execution_count": 35,
     "metadata": {},
     "output_type": "execute_result"
    }
   ],
   "source": [
    "df"
   ]
  },
  {
   "cell_type": "code",
   "execution_count": 36,
   "id": "df04cfed",
   "metadata": {},
   "outputs": [
    {
     "data": {
      "text/plain": [
       "\"We recently grabbed dinner here, and although it's somewhat of a SF staple, it really fell short for me. I got the prized pearl, which simply had an overwhelming amount of blue cheese. I do really enjoy blue cheese, but towards the middle of the burger, it felt as if I was just eating bites of blue cheese over and over. The onions were in between raw and grilled (still opaque), so were in a weird state where onion could actually detract from a burger. The patty itself was not well seasoned; just tasted like I was biting into unseasoned cooked beef. By the end, all the juices had flowed out of everything, and I was eating basically slop.Personally will not be coming back!\""
      ]
     },
     "execution_count": 36,
     "metadata": {},
     "output_type": "execute_result"
    }
   ],
   "source": [
    "df['review'].iloc[1]"
   ]
  },
  {
   "cell_type": "code",
   "execution_count": null,
   "id": "c36e9b61",
   "metadata": {},
   "outputs": [],
   "source": []
  }
 ],
 "metadata": {
  "kernelspec": {
   "display_name": "Python 3 (ipykernel)",
   "language": "python",
   "name": "python3"
  },
  "language_info": {
   "codemirror_mode": {
    "name": "ipython",
    "version": 3
   },
   "file_extension": ".py",
   "mimetype": "text/x-python",
   "name": "python",
   "nbconvert_exporter": "python",
   "pygments_lexer": "ipython3",
   "version": "3.9.7"
  }
 },
 "nbformat": 4,
 "nbformat_minor": 5
}
