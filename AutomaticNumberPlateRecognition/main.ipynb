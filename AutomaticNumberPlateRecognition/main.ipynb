{
 "cells": [
  {
   "cell_type": "code",
   "execution_count": 66,
   "metadata": {},
   "outputs": [
    {
     "name": "stdout",
     "output_type": "stream",
     "text": [
      "Requirement already satisfied: opencv-contrib-python in c:\\users\\piyus\\appdata\\roaming\\python\\python310\\site-packages (4.5.5.64)\n",
      "Requirement already satisfied: imutils in c:\\users\\piyus\\.conda\\envs\\anpr\\lib\\site-packages (0.5.4)\n",
      "Requirement already satisfied: scikit-image in c:\\users\\piyus\\.conda\\envs\\anpr\\lib\\site-packages (0.19.3)\n",
      "Requirement already satisfied: numpy>=1.14.5 in c:\\users\\piyus\\.conda\\envs\\anpr\\lib\\site-packages (from opencv-contrib-python) (1.23.1)\n",
      "Requirement already satisfied: PyWavelets>=1.1.1 in c:\\users\\piyus\\.conda\\envs\\anpr\\lib\\site-packages (from scikit-image) (1.3.0)\n",
      "Requirement already satisfied: tifffile>=2019.7.26 in c:\\users\\piyus\\.conda\\envs\\anpr\\lib\\site-packages (from scikit-image) (2022.5.4)\n",
      "Requirement already satisfied: pillow!=7.1.0,!=7.1.1,!=8.3.0,>=6.1.0 in c:\\users\\piyus\\.conda\\envs\\anpr\\lib\\site-packages (from scikit-image) (9.2.0)\n",
      "Requirement already satisfied: packaging>=20.0 in c:\\users\\piyus\\.conda\\envs\\anpr\\lib\\site-packages (from scikit-image) (21.3)\n",
      "Requirement already satisfied: networkx>=2.2 in c:\\users\\piyus\\.conda\\envs\\anpr\\lib\\site-packages (from scikit-image) (2.8.4)\n",
      "Requirement already satisfied: scipy>=1.4.1 in c:\\users\\piyus\\.conda\\envs\\anpr\\lib\\site-packages (from scikit-image) (1.8.1)\n",
      "Requirement already satisfied: imageio>=2.4.1 in c:\\users\\piyus\\.conda\\envs\\anpr\\lib\\site-packages (from scikit-image) (2.19.3)\n",
      "Requirement already satisfied: pyparsing!=3.0.5,>=2.0.2 in c:\\users\\piyus\\.conda\\envs\\anpr\\lib\\site-packages (from packaging>=20.0->scikit-image) (3.0.9)\n"
     ]
    }
   ],
   "source": [
    "!pip install opencv-contrib-python imutils scikit-image"
   ]
  },
  {
   "cell_type": "code",
   "execution_count": 67,
   "metadata": {},
   "outputs": [
    {
     "name": "stdout",
     "output_type": "stream",
     "text": [
      "Requirement already satisfied: pytesseract in c:\\users\\piyus\\.conda\\envs\\anpr\\lib\\site-packages (0.3.9)\n",
      "Requirement already satisfied: Pillow>=8.0.0 in c:\\users\\piyus\\.conda\\envs\\anpr\\lib\\site-packages (from pytesseract) (9.2.0)\n",
      "Requirement already satisfied: packaging>=21.3 in c:\\users\\piyus\\.conda\\envs\\anpr\\lib\\site-packages (from pytesseract) (21.3)\n",
      "Requirement already satisfied: pyparsing!=3.0.5,>=2.0.2 in c:\\users\\piyus\\.conda\\envs\\anpr\\lib\\site-packages (from packaging>=21.3->pytesseract) (3.0.9)\n",
      "Note: you may need to restart the kernel to use updated packages.\n"
     ]
    }
   ],
   "source": [
    "pip install pytesseract"
   ]
  },
  {
   "cell_type": "code",
   "execution_count": 68,
   "metadata": {},
   "outputs": [
    {
     "name": "stdout",
     "output_type": "stream",
     "text": [
      "Requirement already satisfied: pytz in c:\\users\\piyus\\.conda\\envs\\anpr\\lib\\site-packages (2022.1)\n"
     ]
    }
   ],
   "source": [
    "!pip install pytz"
   ]
  },
  {
   "cell_type": "code",
   "execution_count": 75,
   "metadata": {},
   "outputs": [],
   "source": [
    "# import the necessary packages\n",
    "from skimage.segmentation import clear_border\n",
    "from pytesseract import image_to_string\n",
    "import numpy as np\n",
    "import imutils\n",
    "import cv2\n",
    "\n",
    "class PyImageSearchANPR:\n",
    "\tdef __init__(self, minAR=4, maxAR=5, debug=False):\n",
    "\t\tself.minAR = minAR\n",
    "\t\tself.maxAR = maxAR\n",
    "\t\tself.debug = debug\n",
    "\n",
    "\tdef debug_imshow(self, title, image, waitKey=False):\n",
    "\t\tif self.debug:\n",
    "\t\t\tcv2.imshow(title, image)\n",
    "\t\t\tif waitKey:\n",
    "\t\t\t\tcv2.waitKey(0)\n",
    "\n",
    "\n",
    "\tdef locate_license_plate_candidates(self, gray, keep=5):\n",
    "\n",
    "\t\trectKern = cv2.getStructuringElement(cv2.MORPH_RECT, (13, 9))\n",
    "\t\tblackhat = cv2.morphologyEx(gray, cv2.MORPH_BLACKHAT, rectKern)\n",
    "\t\tself.debug_imshow(\"Blackhat\", blackhat)\n",
    "\n",
    "\t\tsquareKern = cv2.getStructuringElement(cv2.MORPH_RECT, (3, 3))\n",
    "\t\tlight = cv2.morphologyEx(gray, cv2.MORPH_CLOSE, squareKern)\n",
    "\t\tlight = cv2.threshold(light, 0, 255,\n",
    "\t\t\tcv2.THRESH_BINARY | cv2.THRESH_OTSU)[1]\n",
    "\t\tself.debug_imshow(\"Light Regions\", light)\n",
    "\t\tgradX = cv2.Sobel(blackhat, ddepth=cv2.CV_32F,\n",
    "\t\t\tdx=1, dy=0, ksize=-1)\n",
    "\t\tgradX = np.absolute(gradX)\n",
    "\t\t(minVal, maxVal) = (np.min(gradX), np.max(gradX))\n",
    "\t\tgradX = 255 * ((gradX - minVal) / (maxVal - minVal))\n",
    "\t\tgradX = gradX.astype(\"uint8\")\n",
    "\t\tself.debug_imshow(\"Scharr\", gradX)\n",
    "\t\tgradX = cv2.GaussianBlur(gradX, (3, 3), 0)\n",
    "\t\tgradX = cv2.morphologyEx(gradX, cv2.MORPH_CLOSE, rectKern)\n",
    "\t\tthresh = cv2.threshold(gradX, 0, 255,\n",
    "\t\t\tcv2.THRESH_BINARY | cv2.THRESH_OTSU)[1]\n",
    "\t\tself.debug_imshow(\"Grad Thresh\", thresh)\n",
    "\t\tthresh = cv2.erode(thresh, None, iterations=2)\n",
    "\t\tthresh = cv2.dilate(thresh, None, iterations=2)\n",
    "\t\tself.debug_imshow(\"Grad Erode/Dilate\", thresh)\n",
    "\t\tthresh = cv2.bitwise_and(thresh, thresh, mask=light)\n",
    "\t\tthresh = cv2.dilate(thresh, None, iterations=2)\n",
    "\t\tthresh = cv2.erode(thresh, None, iterations=1)\n",
    "\t\tself.debug_imshow(\"Final\", thresh, waitKey=True)\n",
    "\t\tcnts = cv2.findContours(thresh.copy(), cv2.RETR_EXTERNAL,\n",
    "\t\t\tcv2.CHAIN_APPROX_SIMPLE)\n",
    "\t\tcnts = imutils.grab_contours(cnts)\n",
    "\t\tcnts = sorted(cnts, key=cv2.contourArea, reverse=True)[:keep]\n",
    "\t\treturn cnts\n",
    "\n",
    "\tdef locate_license_plate(self, gray, candidates,\n",
    "\t\tclearBorder=False):\n",
    "\t\tlpCnt = None\n",
    "\t\troi = None\n",
    "\t\tfor c in candidates:\t\t\n",
    "\t\t\t(x, y, w, h) = cv2.boundingRect(c)\n",
    "\t\t\tar = w / float(h)\t\n",
    "\t\t\tif ar >= self.minAR and ar <= self.maxAR:\t\t\t\n",
    "\t\t\t\tlpCnt = c\n",
    "\t\t\t\tlicensePlate = gray[y:y + h, x:x + w]\n",
    "\t\t\t\troi = cv2.threshold(licensePlate, 0, 255,\n",
    "\t\t\t\t\tcv2.THRESH_BINARY_INV | cv2.THRESH_OTSU)[1]\t\t\n",
    "\t\t\t\tif clearBorder:\n",
    "\t\t\t\t\troi = clear_border(roi)\t\t\n",
    "\t\t\t\tself.debug_imshow(\"License Plate\", licensePlate)\n",
    "\t\t\t\tself.debug_imshow(\"ROI\", roi, waitKey=True)\n",
    "\t\t\t\tbreak\t\t\n",
    "\t\treturn (roi, lpCnt)\n",
    "\n",
    "\tdef build_tesseract_options(self, psm=7):\n",
    "\t\talphanumeric = \"ABCDEFGHIJKLMNOPQRSTUVWXYZ0123456789\"\n",
    "\t\toptions = \"-c tessedit_char_whitelist={}\".format(alphanumeric)\n",
    "\t\toptions += \" --psm {}\".format(psm)\n",
    "\t\treturn options\n",
    "\n",
    "\n",
    "\tdef find_and_ocr(self, image, psm=7, clearBorder=False):\n",
    "\t\tlpText = None\n",
    "\t\tgray = cv2.cvtColor(image, cv2.COLOR_BGR2GRAY)\n",
    "\t\tcandidates = self.locate_license_plate_candidates(gray)\n",
    "\t\t(lp, lpCnt) = self.locate_license_plate(gray, candidates,\n",
    "\t\t\tclearBorder=clearBorder)\n",
    "\t\tif lp is not None:\n",
    "\t\t\toptions = self.build_tesseract_options(psm=psm)\n",
    "\t\t\tlpText = image_to_string(lp, config=options)\n",
    "\t\t\tself.debug_imshow(\"License Plate\", lp)\n",
    "\t\treturn (lpText, lpCnt)"
   ]
  },
  {
   "cell_type": "code",
   "execution_count": 76,
   "metadata": {},
   "outputs": [],
   "source": [
    "def cleanup_text(text):\n",
    "\t# strip out non-ASCII text so we can draw the text on the image\n",
    "\t# using OpenCV\n",
    "\treturn \"\".join([c if ord(c) < 128 else \"\" for c in text]).strip()"
   ]
  },
  {
   "cell_type": "code",
   "execution_count": 77,
   "metadata": {},
   "outputs": [
    {
     "data": {
      "text/plain": [
       "['./Database/1.jpg',\n",
       " './Database/10.jpg',\n",
       " './Database/11.jpg',\n",
       " './Database/2.jpg',\n",
       " './Database/4.jpg',\n",
       " './Database/5.jpg',\n",
       " './Database/6.jpg',\n",
       " './Database/7.jpg',\n",
       " './Database/8.jpg',\n",
       " './Database/9.jpeg']"
      ]
     },
     "execution_count": 77,
     "metadata": {},
     "output_type": "execute_result"
    }
   ],
   "source": [
    "from imutils import paths\n",
    "anpr = PyImageSearchANPR(debug=True)\n",
    "imagePaths = sorted(list(paths.list_images('./Database/')))\n",
    "imagePaths"
   ]
  },
  {
   "cell_type": "code",
   "execution_count": 78,
   "metadata": {},
   "outputs": [],
   "source": [
    "import pytesseract\n",
    "pytesseract.pytesseract.tesseract_cmd = r'C:\\Program Files\\Tesseract-OCR\\tesseract.exe'"
   ]
  },
  {
   "cell_type": "code",
   "execution_count": 79,
   "metadata": {},
   "outputs": [
    {
     "name": "stdout",
     "output_type": "stream",
     "text": [
      "this image has no number plate  ./Database/1.jpg\n",
      "this image has no number plate  ./Database/10.jpg\n",
      "this image has no number plate  ./Database/11.jpg\n",
      "this image has no number plate  ./Database/2.jpg\n",
      "this image has no number plate  ./Database/4.jpg\n",
      "this image has no number plate  ./Database/5.jpg\n",
      "[INFO] 7\n",
      "\n",
      "this image has no number plate  ./Database/7.jpg\n",
      "this image has no number plate  ./Database/8.jpg\n",
      "this image has no number plate  ./Database/9.jpeg\n"
     ]
    }
   ],
   "source": [
    "for imagePath in imagePaths:\n",
    "\t# load the input image from disk and resize it\n",
    "\timage = cv2.imread(imagePath,1)\n",
    "\timage = imutils.resize(image, width=600)\n",
    "\t# apply automatic license plate recognition\n",
    "\t(lpText, lpCnt) = anpr.find_and_ocr(image, psm=7,\n",
    "\t\tclearBorder= 1)\n",
    "\t# only continue if the license plate was successfully OCR'd\n",
    "\tif lpText is not None and lpCnt is not None:\n",
    "\t\t# fit a rotated bounding box to the license plate contour and\n",
    "\t\t# draw the bounding box on the license plate\n",
    "\t\tbox = cv2.boxPoints(cv2.minAreaRect(lpCnt))\n",
    "\t\tbox = box.astype(\"int\")\n",
    "\t\tcv2.drawContours(image, [box], -1, (0, 255, 0), 2)\n",
    "\t\t# compute a normal (unrotated) bounding box for the license\n",
    "\t\t# plate and then draw the OCR'd license plate text on the\n",
    "\t\t# image\n",
    "\t\t(x, y, w, h) = cv2.boundingRect(lpCnt)\n",
    "\t\tcv2.putText(image, cleanup_text(lpText), (x, y - 15),\n",
    "\t\t\tcv2.FONT_HERSHEY_SIMPLEX, 0.75, (0, 255, 0), 2)\n",
    "\t\t# show the output ANPR image\n",
    "\t\tprint(\"[INFO] {}\".format(lpText))\n",
    "\t\tcv2.imshow(\"Output ANPR\", image)\n",
    "\t\tcv2.waitKey(0)\n",
    "\t\tcv2.imwrite(\"/Results/[RES]{}.jpg\".format(imagePath),image)\n",
    "\telse:\n",
    "\t\tprint(\"this image has no number plate \",\"{}\".format(imagePath))\n",
    "cv2.destroyAllWindows()"
   ]
  },
  {
   "cell_type": "code",
   "execution_count": null,
   "metadata": {},
   "outputs": [],
   "source": []
  },
  {
   "cell_type": "code",
   "execution_count": 74,
   "metadata": {},
   "outputs": [],
   "source": [
    "cv2.destroyAllWindows()"
   ]
  },
  {
   "cell_type": "code",
   "execution_count": null,
   "metadata": {},
   "outputs": [],
   "source": []
  }
 ],
 "metadata": {
  "kernelspec": {
   "display_name": "Python 3.10.4 ('anpr')",
   "language": "python",
   "name": "python3"
  },
  "language_info": {
   "codemirror_mode": {
    "name": "ipython",
    "version": 3
   },
   "file_extension": ".py",
   "mimetype": "text/x-python",
   "name": "python",
   "nbconvert_exporter": "python",
   "pygments_lexer": "ipython3",
   "version": "3.10.4"
  },
  "orig_nbformat": 4,
  "vscode": {
   "interpreter": {
    "hash": "1d014cd3e582c6485195e012bc01361d065054efa183bf5865993b801a0921cc"
   }
  }
 },
 "nbformat": 4,
 "nbformat_minor": 2
}
